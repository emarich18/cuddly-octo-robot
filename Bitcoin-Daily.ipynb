{
 "cells": [
  {
   "cell_type": "code",
   "execution_count": 1,
   "metadata": {},
   "outputs": [],
   "source": [
    "# import libraries\n",
    "import numpy as np\n",
    "from scipy.special import hermite\n",
    "import math\n",
    "from math import factorial\n",
    "from scipy.constants import hbar\n",
    "from scipy.stats import skew\n",
    "from scipy.stats import norm\n",
    "import matplotlib.pyplot as plt\n",
    "import seaborn as sns\n",
    "import pandas as pd\n",
    "from astropy import stats\n",
    "import random\n",
    "import yfinance as yf\n",
    "from yahoofinancials import YahooFinancials\n",
    "from statsmodels.distributions.empirical_distribution import ECDF\n",
    "from hurst import compute_Hc, random_walk\n",
    "\n",
    "%matplotlib inline\n",
    "sns.set()"
   ]
  },
  {
   "cell_type": "markdown",
   "metadata": {},
   "source": [
    "## Importing Files from Yahoo Finance"
   ]
  },
  {
   "cell_type": "code",
   "execution_count": 2,
   "metadata": {},
   "outputs": [],
   "source": [
    "# import BTC-EUR prices for the three holding periods in dataframe format\n",
    "BTC_daily_df = yf.download('BTC-EUR',start='1996-09-21',end='2021-09-01',interval='1d',progress=False)\n",
    "BTC_weekly_df = yf.download('BTC-EUR',start='1996-09-21',end='2021-09-01',interval='1wk',progress=False)\n",
    "BTC_monthly_df = yf.download('BTC-EUR',start='1996-09-21',end='2021-09-01',interval='1mo',progress=False)"
   ]
  },
  {
   "cell_type": "code",
   "execution_count": 3,
   "metadata": {},
   "outputs": [
    {
     "name": "stderr",
     "output_type": "stream",
     "text": [
      "<ipython-input-3-7392e6411401>:5: VisibleDeprecationWarning: Creating an ndarray from ragged nested sequences (which is a list-or-tuple of lists-or-tuples-or ndarrays with different lengths or shapes) is deprecated. If you meant to do this, you must specify 'dtype=object' when creating the ndarray\n",
      "  BTC = np.array([BTC_daily,BTC_weekly,BTC_monthly])\n"
     ]
    }
   ],
   "source": [
    "#BTC-EUR prices in np.array\n",
    "BTC_daily = np.array(BTC_daily_df)[:,4]\n",
    "BTC_weekly = np.array(BTC_weekly_df)[:,4]\n",
    "BTC_monthly = np.array(BTC_monthly_df)[:,4]\n",
    "BTC = np.array([BTC_daily,BTC_weekly,BTC_monthly])"
   ]
  },
  {
   "cell_type": "code",
   "execution_count": 86,
   "metadata": {},
   "outputs": [
    {
     "data": {
      "text/plain": [
       "<matplotlib.legend.Legend at 0x17ac6205640>"
      ]
     },
     "execution_count": 86,
     "metadata": {},
     "output_type": "execute_result"
    },
    {
     "data": {
      "image/png": "[encoded data removed]",
      "text/plain": [
       "<Figure size 432x288 with 1 Axes>"
      ]
     },
     "metadata": {},
     "output_type": "display_data"
    }
   ],
   "source": [
    "plt.plot(BTC_monthly_df.Close, label='Bitcoin')\n",
    "plt.xlabel('Time')\n",
    "plt.ylabel('Price($)')\n",
    "plt.legend(loc=\"upper center\")"
   ]
  },
  {
   "cell_type": "code",
   "execution_count": 4,
   "metadata": {},
   "outputs": [],
   "source": [
    "#returns of a stock price\n",
    "def stockreturns(x):\n",
    "    return([x[i+1]/x[i] for i in range(len(x)-1)])\n",
    "#log-returns of a stock price\n",
    "def logreturns(x):\n",
    "    return([np.log(x[i+1]/x[i]) for i in range(len(x)-1)])"
   ]
  },
  {
   "cell_type": "code",
   "execution_count": 5,
   "metadata": {},
   "outputs": [],
   "source": [
    "#compounded returns of a stock price\n",
    "def compounded_returns(x,t):\n",
    "    if t==0: #daily\n",
    "        return (252.5/1*np.array(logreturns(x[t])))\n",
    "    if t==1: #weekly\n",
    "        return (252.5/5*np.array(logreturns(x[t])))\n",
    "    if t==2: #monthly\n",
    "        return (252.5/20*np.array(logreturns(x[t])))\n",
    "    else:\n",
    "        return"
   ]
  },
  {
   "cell_type": "code",
   "execution_count": 6,
   "metadata": {},
   "outputs": [],
   "source": [
    "#moment, skewness and kurtosis of a dataset\n",
    "def moment(g,x):\n",
    "    return np.sum([(b-np.mean(x))**g for b in x])/len(x)\n",
    "def skeww(x):\n",
    "    return moment(3,x)/(moment(2,x)**(3/2))\n",
    "def kurto(x):\n",
    "    return (moment(4,x)/moment(2,x)**2)-3"
   ]
  },
  {
   "cell_type": "markdown",
   "metadata": {},
   "source": [
    "### Summary statistics of stock returns for different holding periods"
   ]
  },
  {
   "cell_type": "markdown",
   "metadata": {},
   "source": [
    "### BTC-EUR"
   ]
  },
  {
   "cell_type": "code",
   "execution_count": 9,
   "metadata": {},
   "outputs": [
    {
     "data": {
      "text/html": [
       "<div>\n",
       "<style scoped>\n",
       "    .dataframe tbody tr th:only-of-type {\n",
       "        vertical-align: middle;\n",
       "    }\n",
       "\n",
       "    .dataframe tbody tr th {\n",
       "        vertical-align: top;\n",
       "    }\n",
       "\n",
       "    .dataframe thead th {\n",
       "        text-align: right;\n",
       "    }\n",
       "</style>\n",
       "<table border=\"1\" class=\"dataframe\">\n",
       "  <thead>\n",
       "    <tr style=\"text-align: right;\">\n",
       "      <th></th>\n",
       "      <th>τ</th>\n",
       "      <th>N° of observations</th>\n",
       "      <th>Mean</th>\n",
       "      <th>Std</th>\n",
       "      <th>Skewness</th>\n",
       "      <th>Excess kurtosis</th>\n",
       "      <th>Entropy</th>\n",
       "      <th>Hurst</th>\n",
       "    </tr>\n",
       "  </thead>\n",
       "  <tbody>\n",
       "    <tr>\n",
       "      <th>0</th>\n",
       "      <td>1</td>\n",
       "      <td>709</td>\n",
       "      <td>0.521054</td>\n",
       "      <td>10.278073</td>\n",
       "      <td>-1.796037</td>\n",
       "      <td>24.163128</td>\n",
       "      <td>1.382873</td>\n",
       "      <td>0.378651</td>\n",
       "    </tr>\n",
       "    <tr>\n",
       "      <th>1</th>\n",
       "      <td>5</td>\n",
       "      <td>102</td>\n",
       "      <td>0.730159</td>\n",
       "      <td>5.245185</td>\n",
       "      <td>-0.918976</td>\n",
       "      <td>1.974489</td>\n",
       "      <td>0.911239</td>\n",
       "      <td>0.26425</td>\n",
       "    </tr>\n",
       "    <tr>\n",
       "      <th>2</th>\n",
       "      <td>20</td>\n",
       "      <td>22</td>\n",
       "      <td>0.905355</td>\n",
       "      <td>2.676114</td>\n",
       "      <td>-0.592423</td>\n",
       "      <td>-0.230043</td>\n",
       "      <td>0.515338</td>\n",
       "      <td>\\</td>\n",
       "    </tr>\n",
       "  </tbody>\n",
       "</table>\n",
       "</div>"
      ],
      "text/plain": [
       "    τ N° of observations      Mean        Std   Skewness Excess kurtosis  \\\n",
       "0   1                709  0.521054  10.278073  -1.796037       24.163128   \n",
       "1   5                102  0.730159   5.245185  -0.918976        1.974489   \n",
       "2  20                 22  0.905355   2.676114  -0.592423       -0.230043   \n",
       "\n",
       "    Entropy     Hurst  \n",
       "0  1.382873  0.378651  \n",
       "1  0.911239   0.26425  \n",
       "2  0.515338         \\  "
      ]
     },
     "execution_count": 9,
     "metadata": {},
     "output_type": "execute_result"
    }
   ],
   "source": [
    "crBTC1 = compounded_returns(BTC,0)\n",
    "crBTC5 = compounded_returns(BTC,1)\n",
    "crBTC20 = compounded_returns(BTC,2)\n",
    "\n",
    "#hurst numbers for daily, weekly and monthly compounded returns\n",
    "H_1=compute_Hc(crBTC1)[0]\n",
    "H_5=compute_Hc(crBTC5)[0]\n",
    "#H_20=compute_Hc(crBTC20)[0]\n",
    "\n",
    "dfBTC = pd.DataFrame(np.array([['1', len(crBTC1),round(np.mean(crBTC1),6),round(np.std(crBTC1),6),round(skeww(crBTC1),6),round(kurto(crBTC1),6),round(ApEn(crBTC1, m=2, r=3),6),round(H_1,6)], ['5', len(crBTC5),round(np.mean(crBTC5),6),round(np.std(crBTC5),6),round(skeww(crBTC5),6),round(kurto(crBTC5),6),round(ApEn(crBTC5, m=2, r=3),6),round(H_5,6)], ['20', len(crBTC20),round(np.mean(crBTC20),6),round(np.std(crBTC20),6),round(skeww(crBTC20),6),round(kurto(crBTC20),6),round(ApEn(crBTC20, m=2, r=3),6),'\\\\']]),\n",
    "                   columns=['τ', 'N° of observations', 'Mean','Std','Skewness','Excess kurtosis','Entropy','Hurst'])\n",
    "dfBTC"
   ]
  },
  {
   "cell_type": "markdown",
   "metadata": {},
   "source": [
    "### Theoretical probability function"
   ]
  },
  {
   "cell_type": "code",
   "execution_count": 10,
   "metadata": {},
   "outputs": [],
   "source": [
    "N = 5 #numero di oscillatori armonici considerati"
   ]
  },
  {
   "cell_type": "code",
   "execution_count": 11,
   "metadata": {},
   "outputs": [],
   "source": [
    "#Quantum PDF\n",
    "def psisquare(C,y):\n",
    "    N = len(C)-1\n",
    "    P = np.zeros((N,len(y)))\n",
    "    y = np.sort(y)\n",
    "    for i in range(N):\n",
    "        P[i,:]=C[i]*np.exp(-C[-1]*y**2)*hermite(i)(np.sqrt(C[-1])*y)\n",
    "        \n",
    "    return P.sum(axis=0)/np.trapz(P.sum(axis=0),y)    "
   ]
  },
  {
   "cell_type": "markdown",
   "metadata": {},
   "source": [
    "## FITNESS FUNCTION "
   ]
  },
  {
   "cell_type": "markdown",
   "metadata": {},
   "source": [
    "### Entropy of a vector"
   ]
  },
  {
   "cell_type": "code",
   "execution_count": 12,
   "metadata": {},
   "outputs": [],
   "source": [
    "#entropy of a vector\n",
    "def ApEn(U, m, r):\n",
    "    U = np.array(U)\n",
    "    N = U.shape[0]\n",
    "            \n",
    "    def _phi(m):\n",
    "        z = N - m + 1.0\n",
    "        x = np.array([U[i:i+m] for i in range(int(z))])\n",
    "        X = np.repeat(x[:, np.newaxis], 1, axis=2)\n",
    "        C = np.sum(np.absolute(x - X).max(axis=2) <= r, axis=0) / z\n",
    "        return np.log(C).sum() / z\n",
    "    \n",
    "    return abs(_phi(m + 1) - _phi(m))"
   ]
  },
  {
   "cell_type": "markdown",
   "metadata": {},
   "source": [
    "### ECDF of a distribution"
   ]
  },
  {
   "cell_type": "code",
   "execution_count": 13,
   "metadata": {},
   "outputs": [],
   "source": [
    "# Creating our ecdf function\n",
    "def ecdf(data):\n",
    "    \"\"\" \n",
    "    This function creates the x and y axis for a ecdf\n",
    "    plot given the data as input.\n",
    "    \"\"\"\n",
    "    xaxis = np.sort(data)\n",
    "    yaxis = np.arange(1,len(data)+1)/len(data)\n",
    "    return xaxis, yaxis"
   ]
  },
  {
   "cell_type": "markdown",
   "metadata": {},
   "source": [
    "## Genetic Algorithm to optimize description of financial indices"
   ]
  },
  {
   "cell_type": "markdown",
   "metadata": {},
   "source": [
    "### GA Functions"
   ]
  },
  {
   "cell_type": "markdown",
   "metadata": {},
   "source": [
    "\\begin{equation}\n",
    "KL(\\tilde{p}||q (θ|.)) = - \\frac{1}{M} \\sum_{μ=1}^{M} log(x^μ|θ) - S(\\tilde{p})\n",
    "\\end{equation}"
   ]
  },
  {
   "cell_type": "code",
   "execution_count": 14,
   "metadata": {},
   "outputs": [],
   "source": [
    "#Quantum Fitness function of a vector\n",
    "def Fitness(x,C):\n",
    "    \n",
    "    M = len(x)\n",
    "    \n",
    "    return -(M)**(-1)*sum(np.log(psisquare(C,x)))# - ApEn(ecdf(x)[1], m=2, r=3)\n",
    "\n",
    "#funzione fitness, si occupa di dare un punteggio ad ogni vettore C, vince quello con il punteggio minore"
   ]
  },
  {
   "cell_type": "code",
   "execution_count": 15,
   "metadata": {},
   "outputs": [],
   "source": [
    "#quantum fitness function of a matrix\n",
    "def fitness_vector(data,C):\n",
    "    T = np.array([Fitness(data,C[i,:]) for i in range(C.shape[0])])\n",
    "    for i in range(len(T)):\n",
    "        if math.isnan(T[i])==True:\n",
    "            T[i] = 9999999   \n",
    "    return T"
   ]
  },
  {
   "cell_type": "code",
   "execution_count": 16,
   "metadata": {},
   "outputs": [],
   "source": [
    "def selection(fitness,C,number):\n",
    "    #C = popolazione iniziale dei coefficienti\n",
    "    #number = numero delle righe del nuovo vettore\n",
    "    #fitness = fitness_vector(data,C)\n",
    "    li = np.argsort(fitness)[:number]\n",
    "    return np.array([C[b,:] for b in li])         "
   ]
  },
  {
   "cell_type": "code",
   "execution_count": 17,
   "metadata": {},
   "outputs": [],
   "source": [
    "def crossover(C):\n",
    "    offspring = np.zeros(shape=C.shape)\n",
    "    crossover_points = np.empty(C.shape[0],dtype=int)\n",
    "    for k in range(C.shape[0]):\n",
    "        crossover_points[k] = random.randint(1,N)\n",
    "        parent1_idx = k%C.shape[0]\n",
    "        parent2_idx = (k+1)%C.shape[0]\n",
    "        offspring[k, 0:crossover_points[k]] = C[parent1_idx, 0:crossover_points[k]]\n",
    "        offspring[k, crossover_points[k]:N] = C[parent2_idx, crossover_points[k]:N]\n",
    "        offspring[k,N] = C[:,-1][parent2_idx]\n",
    "    return offspring"
   ]
  },
  {
   "cell_type": "markdown",
   "metadata": {},
   "source": [
    "### Genetic Algorithms Code"
   ]
  },
  {
   "cell_type": "code",
   "execution_count": 18,
   "metadata": {},
   "outputs": [],
   "source": [
    "#Inputs of the equation.\n",
    "data = crBTC1\n",
    "#Number of the weights we are looking to optimize.\n",
    "num_weights = N + 1\n",
    "#Defining the population size.\n",
    "num_pop = 1000\n",
    "pop_size = np.array([num_pop,num_weights])\n",
    "#initializing populations\n",
    "try_population = np.zeros((num_pop,num_weights))\n",
    "\n",
    "try_population[:,0] = np.random.uniform(low=0, high=0.1, size = num_pop) #coefficienti C_0\n",
    "try_population[:,1:N] = np.random.uniform(low=-0.1, high=0.1, size=(num_pop,N-1)) #coefficienti C_1,C_n\n",
    "try_population[:,-1] = np.random.uniform(low=0, high=0.3, size = num_pop) #masse degli oscillatori"
   ]
  },
  {
   "cell_type": "code",
   "execution_count": 19,
   "metadata": {},
   "outputs": [],
   "source": [
    "num_generations = 70 #number of the generations decided\n",
    "num_parents = 500 #number of the parents selected"
   ]
  },
  {
   "cell_type": "code",
   "execution_count": 20,
   "metadata": {
    "scrolled": true
   },
   "outputs": [
    {
     "name": "stderr",
     "output_type": "stream",
     "text": [
      "<ipython-input-14-a20809127414>:5: RuntimeWarning: divide by zero encountered in log\n",
      "  return -(M)**(-1)*sum(np.log(psisquare(C,x)))# - ApEn(ecdf(x)[1], m=2, r=3)\n",
      "<ipython-input-14-a20809127414>:5: RuntimeWarning: invalid value encountered in log\n",
      "  return -(M)**(-1)*sum(np.log(psisquare(C,x)))# - ApEn(ecdf(x)[1], m=2, r=3)\n"
     ]
    },
    {
     "data": {
      "text/html": [
       "<div>\n",
       "<style scoped>\n",
       "    .dataframe tbody tr th:only-of-type {\n",
       "        vertical-align: middle;\n",
       "    }\n",
       "\n",
       "    .dataframe tbody tr th {\n",
       "        vertical-align: top;\n",
       "    }\n",
       "\n",
       "    .dataframe thead th {\n",
       "        text-align: right;\n",
       "    }\n",
       "</style>\n",
       "<table border=\"1\" class=\"dataframe\">\n",
       "  <thead>\n",
       "    <tr style=\"text-align: right;\">\n",
       "      <th></th>\n",
       "      <th>Generation</th>\n",
       "      <th>C0</th>\n",
       "      <th>C1</th>\n",
       "      <th>C2</th>\n",
       "      <th>C3</th>\n",
       "      <th>C4</th>\n",
       "      <th>m</th>\n",
       "      <th>QuantumFitness</th>\n",
       "    </tr>\n",
       "  </thead>\n",
       "  <tbody>\n",
       "    <tr>\n",
       "      <th>0</th>\n",
       "      <td>1.0</td>\n",
       "      <td>0.013092</td>\n",
       "      <td>-0.009630</td>\n",
       "      <td>-0.068500</td>\n",
       "      <td>-0.073406</td>\n",
       "      <td>0.016205</td>\n",
       "      <td>0.241560</td>\n",
       "      <td>4.774479</td>\n",
       "    </tr>\n",
       "    <tr>\n",
       "      <th>1</th>\n",
       "      <td>2.0</td>\n",
       "      <td>0.079891</td>\n",
       "      <td>0.014586</td>\n",
       "      <td>-0.029394</td>\n",
       "      <td>0.034071</td>\n",
       "      <td>0.090965</td>\n",
       "      <td>0.174000</td>\n",
       "      <td>4.774479</td>\n",
       "    </tr>\n",
       "    <tr>\n",
       "      <th>2</th>\n",
       "      <td>3.0</td>\n",
       "      <td>0.022835</td>\n",
       "      <td>-0.042951</td>\n",
       "      <td>-0.010217</td>\n",
       "      <td>-0.196637</td>\n",
       "      <td>0.109318</td>\n",
       "      <td>0.048858</td>\n",
       "      <td>4.774479</td>\n",
       "    </tr>\n",
       "    <tr>\n",
       "      <th>3</th>\n",
       "      <td>4.0</td>\n",
       "      <td>0.075562</td>\n",
       "      <td>-0.085332</td>\n",
       "      <td>-0.007127</td>\n",
       "      <td>-0.026042</td>\n",
       "      <td>0.000718</td>\n",
       "      <td>0.003105</td>\n",
       "      <td>4.774479</td>\n",
       "    </tr>\n",
       "    <tr>\n",
       "      <th>4</th>\n",
       "      <td>5.0</td>\n",
       "      <td>0.119271</td>\n",
       "      <td>-0.015578</td>\n",
       "      <td>0.041805</td>\n",
       "      <td>0.029075</td>\n",
       "      <td>0.109949</td>\n",
       "      <td>0.082649</td>\n",
       "      <td>4.774479</td>\n",
       "    </tr>\n",
       "    <tr>\n",
       "      <th>...</th>\n",
       "      <td>...</td>\n",
       "      <td>...</td>\n",
       "      <td>...</td>\n",
       "      <td>...</td>\n",
       "      <td>...</td>\n",
       "      <td>...</td>\n",
       "      <td>...</td>\n",
       "      <td>...</td>\n",
       "    </tr>\n",
       "    <tr>\n",
       "      <th>65</th>\n",
       "      <td>66.0</td>\n",
       "      <td>0.066327</td>\n",
       "      <td>0.000057</td>\n",
       "      <td>-0.006154</td>\n",
       "      <td>0.000009</td>\n",
       "      <td>0.002856</td>\n",
       "      <td>0.004914</td>\n",
       "      <td>3.682928</td>\n",
       "    </tr>\n",
       "    <tr>\n",
       "      <th>66</th>\n",
       "      <td>67.0</td>\n",
       "      <td>0.005187</td>\n",
       "      <td>0.000354</td>\n",
       "      <td>-0.000336</td>\n",
       "      <td>0.000143</td>\n",
       "      <td>0.000310</td>\n",
       "      <td>0.005341</td>\n",
       "      <td>3.682928</td>\n",
       "    </tr>\n",
       "    <tr>\n",
       "      <th>67</th>\n",
       "      <td>68.0</td>\n",
       "      <td>0.106763</td>\n",
       "      <td>0.000005</td>\n",
       "      <td>-0.004090</td>\n",
       "      <td>0.000523</td>\n",
       "      <td>0.001586</td>\n",
       "      <td>0.004824</td>\n",
       "      <td>3.682928</td>\n",
       "    </tr>\n",
       "    <tr>\n",
       "      <th>68</th>\n",
       "      <td>69.0</td>\n",
       "      <td>0.096116</td>\n",
       "      <td>0.000476</td>\n",
       "      <td>-0.003785</td>\n",
       "      <td>0.001067</td>\n",
       "      <td>0.001324</td>\n",
       "      <td>0.004824</td>\n",
       "      <td>3.682928</td>\n",
       "    </tr>\n",
       "    <tr>\n",
       "      <th>69</th>\n",
       "      <td>70.0</td>\n",
       "      <td>0.008529</td>\n",
       "      <td>0.000061</td>\n",
       "      <td>-0.000476</td>\n",
       "      <td>0.000001</td>\n",
       "      <td>0.000101</td>\n",
       "      <td>0.004377</td>\n",
       "      <td>3.682928</td>\n",
       "    </tr>\n",
       "  </tbody>\n",
       "</table>\n",
       "<p>70 rows × 8 columns</p>\n",
       "</div>"
      ],
      "text/plain": [
       "    Generation        C0        C1        C2        C3        C4         m  \\\n",
       "0          1.0  0.013092 -0.009630 -0.068500 -0.073406  0.016205  0.241560   \n",
       "1          2.0  0.079891  0.014586 -0.029394  0.034071  0.090965  0.174000   \n",
       "2          3.0  0.022835 -0.042951 -0.010217 -0.196637  0.109318  0.048858   \n",
       "3          4.0  0.075562 -0.085332 -0.007127 -0.026042  0.000718  0.003105   \n",
       "4          5.0  0.119271 -0.015578  0.041805  0.029075  0.109949  0.082649   \n",
       "..         ...       ...       ...       ...       ...       ...       ...   \n",
       "65        66.0  0.066327  0.000057 -0.006154  0.000009  0.002856  0.004914   \n",
       "66        67.0  0.005187  0.000354 -0.000336  0.000143  0.000310  0.005341   \n",
       "67        68.0  0.106763  0.000005 -0.004090  0.000523  0.001586  0.004824   \n",
       "68        69.0  0.096116  0.000476 -0.003785  0.001067  0.001324  0.004824   \n",
       "69        70.0  0.008529  0.000061 -0.000476  0.000001  0.000101  0.004377   \n",
       "\n",
       "    QuantumFitness  \n",
       "0         4.774479  \n",
       "1         4.774479  \n",
       "2         4.774479  \n",
       "3         4.774479  \n",
       "4         4.774479  \n",
       "..             ...  \n",
       "65        3.682928  \n",
       "66        3.682928  \n",
       "67        3.682928  \n",
       "68        3.682928  \n",
       "69        3.682928  \n",
       "\n",
       "[70 rows x 8 columns]"
      ]
     },
     "execution_count": 20,
     "metadata": {},
     "output_type": "execute_result"
    }
   ],
   "source": [
    "Coefficient_matrix = pd.DataFrame(columns=['Generation','C0', 'C1', 'C2','C3','C4','m','QuantumFitness'])\n",
    "entropy = ApEn(ecdf(data)[1], m=2, r=3)\n",
    "for generation in range(num_generations):\n",
    "    # Measuring the fitness of each chromosome in the population.\n",
    "    fitness = fitness_vector(data,try_population)\n",
    "    # Selecting the best parents in the population.\n",
    "    parents = selection(fitness,try_population,num_parents)\n",
    "    # Generating next generation using crossover.\n",
    "    cross = crossover(parents)\n",
    "    # Adding some variations to the offsrping using mutation.\n",
    "    row = cross.shape[0]\n",
    "    column = cross.shape[1]\n",
    "    mutation_matrix = np.random.rand(row,column)*np.array([[random.randint(-1,1) for j in range(column)] for i in range(row)])\n",
    "    mutation_matrix+= np.ones((row,column))\n",
    "    mutant = mutation_matrix*cross\n",
    "    # Creating the new population based on the parents and offspring.\n",
    "    try_population[0:parents.shape[0], :] = parents\n",
    "    try_population[parents.shape[0]:, :] = mutant\n",
    "    np.random.shuffle(try_population)\n",
    "    # The best result in the current iteration.\n",
    "    #print(\"Generation : \", generation + 1,\"\\nBest Parent:\\n\",try_population[np.where(fitness==np.min(fitness))],\"\\nMin Fitness Values :\",np.min(fitness),\"\\n\\n\")\n",
    "    gen = np.insert(try_population[np.where(fitness==np.min(fitness))],  0,int(generation + 1))\n",
    "    gen = np.insert(gen,len(gen),np.min(fitness)-entropy)\n",
    "    Coefficient_matrix.loc[generation] = gen\n",
    "Coefficient_matrix"
   ]
  },
  {
   "cell_type": "code",
   "execution_count": 49,
   "metadata": {},
   "outputs": [
    {
     "data": {
      "text/plain": [
       "[<matplotlib.lines.Line2D at 0x21bad68c3a0>]"
      ]
     },
     "execution_count": 49,
     "metadata": {},
     "output_type": "execute_result"
    },
    {
     "data": {
      "image/png": "[encoded data removed]",
      "text/plain": [
       "<Figure size 432x288 with 1 Axes>"
      ]
     },
     "metadata": {},
     "output_type": "display_data"
    }
   ],
   "source": [
    "#GBM_crBTC1_d = np.array(Coefficient_matrix_GBM)[-1,1:-1]\n",
    "Quantum_crBTC1_d = np.array(Coefficient_matrix)[-15,1:-1]\n",
    "crBTC1_rg=25\n",
    "crBTC1_t = np.sort([crBTC1[i] for i in range(len(crBTC1)) if -crBTC1_rg<=crBTC1[i]<=crBTC1_rg])\n",
    "width = stats.freedman_bin_width((crBTC1), return_bins=False)\n",
    "hist_plot = sns.histplot(data,stat=\"density\", binwidth=width,binrange=(-crBTC1_rg,crBTC1_rg))\n",
    "#plt.plot(crBTC1_t,GBM(GBM_crBTC1_d,crBTC1_t,1),color = 'r')\n",
    "plt.plot(crBTC1_t,psisquare(Quantum_crBTC1_d,crBTC1_t),color = 'b')"
   ]
  },
  {
   "cell_type": "markdown",
   "metadata": {},
   "source": [
    "## GBM "
   ]
  },
  {
   "cell_type": "code",
   "execution_count": 50,
   "metadata": {},
   "outputs": [],
   "source": [
    "#Inputs of the equation.\n",
    "data = crBTC1\n",
    "#Number of the weights we are looking to optimize.\n",
    "num_weights = 2\n",
    "#Defining the population size.\n",
    "num_pop = 1000\n",
    "pop_size = np.array([num_pop,num_weights])\n",
    "#initializing populations\n",
    "D_population = np.zeros((num_pop,num_weights))\n",
    "\n",
    "D_population[:,0] = np.random.uniform(low=0.5, high=1.5, size = num_pop) #coefficienti μ\n",
    "D_population[:,1] = np.random.uniform(low=3, high=4, size=num_pop) #coefficienti σ^2"
   ]
  },
  {
   "cell_type": "code",
   "execution_count": 51,
   "metadata": {},
   "outputs": [],
   "source": [
    "GBMnum_generations = 40 #number of the generations decided\n",
    "GBMnum_parents = 500 #number of the parents selected"
   ]
  },
  {
   "cell_type": "code",
   "execution_count": 52,
   "metadata": {},
   "outputs": [],
   "source": [
    "#GBM PDF\n",
    "#D is a vector with components mu and sigma^2\n",
    "def GBM(D,x,t):\n",
    "    mu = (D[0]-D[1]/2)*t\n",
    "    sigma = D[1]*t\n",
    "    return norm(mu, sigma).pdf(x)"
   ]
  },
  {
   "cell_type": "code",
   "execution_count": 53,
   "metadata": {},
   "outputs": [],
   "source": [
    "def GBMFitness(x,D,t):\n",
    "    M = len(x)\n",
    "    return -(M)**(-1)*sum(np.log(GBM(D,x,t)))# - ApEn(ecdf(x)[1], m=2, r=3)"
   ]
  },
  {
   "cell_type": "code",
   "execution_count": 54,
   "metadata": {},
   "outputs": [],
   "source": [
    "def GBMfitness_vector(x,D,t):\n",
    "    T = np.array([GBMFitness(x,D[i,:],t) for i in range(D.shape[0])])\n",
    "    for i in range(len(T)):\n",
    "        if math.isnan(T[i])==True:\n",
    "            T[i] = 9999999   \n",
    "    return T"
   ]
  },
  {
   "cell_type": "code",
   "execution_count": 55,
   "metadata": {},
   "outputs": [],
   "source": [
    "def GBMselection(fitness,D,number):\n",
    "    #C = popolazione iniziale dei coefficienti\n",
    "    #number = numero delle righe del nuovo vettore\n",
    "    #fitness = fitness_vector(data,D)\n",
    "    li = np.argsort(fitness)[:number]\n",
    "    return np.array([D[b,:] for b in li])"
   ]
  },
  {
   "cell_type": "code",
   "execution_count": 56,
   "metadata": {},
   "outputs": [],
   "source": [
    "def GBMcrossover(D):\n",
    "    offspring = np.zeros(shape=D.shape)\n",
    "    random_mu = random.randint(1,D.shape[0])\n",
    "    random_sigma = random.randint(1,D.shape[0])\n",
    "    for k in range(D.shape[0]):\n",
    "        shift_mu = (k+random_mu)%D.shape[0]\n",
    "        shift_sigma = (k+random_sigma)%D.shape[0]\n",
    "        offspring[k,0] = D[shift_mu,0]\n",
    "        offspring[k,1] = D[shift_sigma,1]\n",
    "    return offspring"
   ]
  },
  {
   "cell_type": "code",
   "execution_count": 57,
   "metadata": {
    "scrolled": false
   },
   "outputs": [
    {
     "name": "stderr",
     "output_type": "stream",
     "text": [
      "<ipython-input-53-7c35d306ec2e>:3: RuntimeWarning: divide by zero encountered in log\n",
      "  return -(M)**(-1)*sum(np.log(GBM(D,x,t)))# - ApEn(ecdf(x)[1], m=2, r=3)\n"
     ]
    },
    {
     "data": {
      "text/html": [
       "<div>\n",
       "<style scoped>\n",
       "    .dataframe tbody tr th:only-of-type {\n",
       "        vertical-align: middle;\n",
       "    }\n",
       "\n",
       "    .dataframe tbody tr th {\n",
       "        vertical-align: top;\n",
       "    }\n",
       "\n",
       "    .dataframe thead th {\n",
       "        text-align: right;\n",
       "    }\n",
       "</style>\n",
       "<table border=\"1\" class=\"dataframe\">\n",
       "  <thead>\n",
       "    <tr style=\"text-align: right;\">\n",
       "      <th></th>\n",
       "      <th>Generation</th>\n",
       "      <th>GBMmu</th>\n",
       "      <th>GBMsigma</th>\n",
       "      <th>GBMFitness</th>\n",
       "    </tr>\n",
       "  </thead>\n",
       "  <tbody>\n",
       "    <tr>\n",
       "      <th>0</th>\n",
       "      <td>1.0</td>\n",
       "      <td>0.013043</td>\n",
       "      <td>0.242942</td>\n",
       "      <td>5.646102</td>\n",
       "    </tr>\n",
       "    <tr>\n",
       "      <th>1</th>\n",
       "      <td>1.0</td>\n",
       "      <td>1.064859</td>\n",
       "      <td>3.952785</td>\n",
       "      <td>3.908636</td>\n",
       "    </tr>\n",
       "    <tr>\n",
       "      <th>2</th>\n",
       "      <td>1.0</td>\n",
       "      <td>0.488330</td>\n",
       "      <td>2.267532</td>\n",
       "      <td>3.791021</td>\n",
       "    </tr>\n",
       "    <tr>\n",
       "      <th>3</th>\n",
       "      <td>1.0</td>\n",
       "      <td>0.463174</td>\n",
       "      <td>6.270758</td>\n",
       "      <td>3.791021</td>\n",
       "    </tr>\n",
       "    <tr>\n",
       "      <th>4</th>\n",
       "      <td>1.0</td>\n",
       "      <td>1.646489</td>\n",
       "      <td>13.054611</td>\n",
       "      <td>3.763731</td>\n",
       "    </tr>\n",
       "    <tr>\n",
       "      <th>5</th>\n",
       "      <td>1.0</td>\n",
       "      <td>1.049371</td>\n",
       "      <td>9.873061</td>\n",
       "      <td>3.752511</td>\n",
       "    </tr>\n",
       "    <tr>\n",
       "      <th>6</th>\n",
       "      <td>1.0</td>\n",
       "      <td>0.464773</td>\n",
       "      <td>11.878977</td>\n",
       "      <td>3.752511</td>\n",
       "    </tr>\n",
       "    <tr>\n",
       "      <th>7</th>\n",
       "      <td>1.0</td>\n",
       "      <td>0.348514</td>\n",
       "      <td>10.626257</td>\n",
       "      <td>3.752511</td>\n",
       "    </tr>\n",
       "    <tr>\n",
       "      <th>8</th>\n",
       "      <td>1.0</td>\n",
       "      <td>1.420050</td>\n",
       "      <td>9.419356</td>\n",
       "      <td>3.749831</td>\n",
       "    </tr>\n",
       "    <tr>\n",
       "      <th>9</th>\n",
       "      <td>1.0</td>\n",
       "      <td>2.253146</td>\n",
       "      <td>15.552379</td>\n",
       "      <td>3.749100</td>\n",
       "    </tr>\n",
       "    <tr>\n",
       "      <th>10</th>\n",
       "      <td>1.0</td>\n",
       "      <td>3.627133</td>\n",
       "      <td>11.692976</td>\n",
       "      <td>3.749100</td>\n",
       "    </tr>\n",
       "    <tr>\n",
       "      <th>11</th>\n",
       "      <td>1.0</td>\n",
       "      <td>3.529309</td>\n",
       "      <td>10.162757</td>\n",
       "      <td>3.748999</td>\n",
       "    </tr>\n",
       "    <tr>\n",
       "      <th>12</th>\n",
       "      <td>1.0</td>\n",
       "      <td>0.346007</td>\n",
       "      <td>7.978895</td>\n",
       "      <td>3.748999</td>\n",
       "    </tr>\n",
       "    <tr>\n",
       "      <th>13</th>\n",
       "      <td>1.0</td>\n",
       "      <td>2.682200</td>\n",
       "      <td>17.116354</td>\n",
       "      <td>3.748999</td>\n",
       "    </tr>\n",
       "    <tr>\n",
       "      <th>14</th>\n",
       "      <td>1.0</td>\n",
       "      <td>1.185828</td>\n",
       "      <td>11.204661</td>\n",
       "      <td>3.748999</td>\n",
       "    </tr>\n",
       "    <tr>\n",
       "      <th>15</th>\n",
       "      <td>1.0</td>\n",
       "      <td>4.543708</td>\n",
       "      <td>12.235198</td>\n",
       "      <td>3.748999</td>\n",
       "    </tr>\n",
       "    <tr>\n",
       "      <th>16</th>\n",
       "      <td>1.0</td>\n",
       "      <td>6.711213</td>\n",
       "      <td>9.419356</td>\n",
       "      <td>3.748971</td>\n",
       "    </tr>\n",
       "    <tr>\n",
       "      <th>17</th>\n",
       "      <td>1.0</td>\n",
       "      <td>5.459230</td>\n",
       "      <td>10.233112</td>\n",
       "      <td>3.748971</td>\n",
       "    </tr>\n",
       "    <tr>\n",
       "      <th>18</th>\n",
       "      <td>1.0</td>\n",
       "      <td>8.356284</td>\n",
       "      <td>15.153139</td>\n",
       "      <td>3.748971</td>\n",
       "    </tr>\n",
       "    <tr>\n",
       "      <th>19</th>\n",
       "      <td>1.0</td>\n",
       "      <td>7.044950</td>\n",
       "      <td>14.941567</td>\n",
       "      <td>3.748971</td>\n",
       "    </tr>\n",
       "    <tr>\n",
       "      <th>20</th>\n",
       "      <td>1.0</td>\n",
       "      <td>2.269906</td>\n",
       "      <td>0.810499</td>\n",
       "      <td>3.748971</td>\n",
       "    </tr>\n",
       "    <tr>\n",
       "      <th>21</th>\n",
       "      <td>1.0</td>\n",
       "      <td>5.065933</td>\n",
       "      <td>10.545263</td>\n",
       "      <td>3.748971</td>\n",
       "    </tr>\n",
       "    <tr>\n",
       "      <th>22</th>\n",
       "      <td>1.0</td>\n",
       "      <td>4.908181</td>\n",
       "      <td>10.351214</td>\n",
       "      <td>3.748971</td>\n",
       "    </tr>\n",
       "    <tr>\n",
       "      <th>23</th>\n",
       "      <td>1.0</td>\n",
       "      <td>5.178267</td>\n",
       "      <td>10.602110</td>\n",
       "      <td>3.748971</td>\n",
       "    </tr>\n",
       "    <tr>\n",
       "      <th>24</th>\n",
       "      <td>1.0</td>\n",
       "      <td>5.627497</td>\n",
       "      <td>9.091252</td>\n",
       "      <td>3.748971</td>\n",
       "    </tr>\n",
       "    <tr>\n",
       "      <th>25</th>\n",
       "      <td>1.0</td>\n",
       "      <td>5.334524</td>\n",
       "      <td>10.188811</td>\n",
       "      <td>3.748971</td>\n",
       "    </tr>\n",
       "    <tr>\n",
       "      <th>26</th>\n",
       "      <td>1.0</td>\n",
       "      <td>6.240384</td>\n",
       "      <td>10.206278</td>\n",
       "      <td>3.748969</td>\n",
       "    </tr>\n",
       "    <tr>\n",
       "      <th>27</th>\n",
       "      <td>1.0</td>\n",
       "      <td>4.983630</td>\n",
       "      <td>2.546350</td>\n",
       "      <td>3.748969</td>\n",
       "    </tr>\n",
       "    <tr>\n",
       "      <th>28</th>\n",
       "      <td>1.0</td>\n",
       "      <td>2.585015</td>\n",
       "      <td>10.417553</td>\n",
       "      <td>3.748959</td>\n",
       "    </tr>\n",
       "    <tr>\n",
       "      <th>29</th>\n",
       "      <td>1.0</td>\n",
       "      <td>5.456296</td>\n",
       "      <td>9.983193</td>\n",
       "      <td>3.748959</td>\n",
       "    </tr>\n",
       "    <tr>\n",
       "      <th>30</th>\n",
       "      <td>1.0</td>\n",
       "      <td>6.127751</td>\n",
       "      <td>10.488427</td>\n",
       "      <td>3.748959</td>\n",
       "    </tr>\n",
       "    <tr>\n",
       "      <th>31</th>\n",
       "      <td>1.0</td>\n",
       "      <td>7.852641</td>\n",
       "      <td>10.064305</td>\n",
       "      <td>3.748959</td>\n",
       "    </tr>\n",
       "    <tr>\n",
       "      <th>32</th>\n",
       "      <td>1.0</td>\n",
       "      <td>0.852115</td>\n",
       "      <td>1.995211</td>\n",
       "      <td>3.748959</td>\n",
       "    </tr>\n",
       "    <tr>\n",
       "      <th>33</th>\n",
       "      <td>1.0</td>\n",
       "      <td>5.490595</td>\n",
       "      <td>13.528158</td>\n",
       "      <td>3.748959</td>\n",
       "    </tr>\n",
       "    <tr>\n",
       "      <th>34</th>\n",
       "      <td>1.0</td>\n",
       "      <td>5.404131</td>\n",
       "      <td>10.351214</td>\n",
       "      <td>3.748959</td>\n",
       "    </tr>\n",
       "    <tr>\n",
       "      <th>35</th>\n",
       "      <td>1.0</td>\n",
       "      <td>5.451840</td>\n",
       "      <td>10.351214</td>\n",
       "      <td>3.748959</td>\n",
       "    </tr>\n",
       "    <tr>\n",
       "      <th>36</th>\n",
       "      <td>1.0</td>\n",
       "      <td>5.431423</td>\n",
       "      <td>10.184123</td>\n",
       "      <td>3.748953</td>\n",
       "    </tr>\n",
       "    <tr>\n",
       "      <th>37</th>\n",
       "      <td>1.0</td>\n",
       "      <td>5.811540</td>\n",
       "      <td>10.205903</td>\n",
       "      <td>3.748953</td>\n",
       "    </tr>\n",
       "    <tr>\n",
       "      <th>38</th>\n",
       "      <td>1.0</td>\n",
       "      <td>5.722173</td>\n",
       "      <td>10.184123</td>\n",
       "      <td>3.748953</td>\n",
       "    </tr>\n",
       "    <tr>\n",
       "      <th>39</th>\n",
       "      <td>1.0</td>\n",
       "      <td>5.439130</td>\n",
       "      <td>10.236686</td>\n",
       "      <td>3.748953</td>\n",
       "    </tr>\n",
       "  </tbody>\n",
       "</table>\n",
       "</div>"
      ],
      "text/plain": [
       "    Generation     GBMmu   GBMsigma  GBMFitness\n",
       "0          1.0  0.013043   0.242942    5.646102\n",
       "1          1.0  1.064859   3.952785    3.908636\n",
       "2          1.0  0.488330   2.267532    3.791021\n",
       "3          1.0  0.463174   6.270758    3.791021\n",
       "4          1.0  1.646489  13.054611    3.763731\n",
       "5          1.0  1.049371   9.873061    3.752511\n",
       "6          1.0  0.464773  11.878977    3.752511\n",
       "7          1.0  0.348514  10.626257    3.752511\n",
       "8          1.0  1.420050   9.419356    3.749831\n",
       "9          1.0  2.253146  15.552379    3.749100\n",
       "10         1.0  3.627133  11.692976    3.749100\n",
       "11         1.0  3.529309  10.162757    3.748999\n",
       "12         1.0  0.346007   7.978895    3.748999\n",
       "13         1.0  2.682200  17.116354    3.748999\n",
       "14         1.0  1.185828  11.204661    3.748999\n",
       "15         1.0  4.543708  12.235198    3.748999\n",
       "16         1.0  6.711213   9.419356    3.748971\n",
       "17         1.0  5.459230  10.233112    3.748971\n",
       "18         1.0  8.356284  15.153139    3.748971\n",
       "19         1.0  7.044950  14.941567    3.748971\n",
       "20         1.0  2.269906   0.810499    3.748971\n",
       "21         1.0  5.065933  10.545263    3.748971\n",
       "22         1.0  4.908181  10.351214    3.748971\n",
       "23         1.0  5.178267  10.602110    3.748971\n",
       "24         1.0  5.627497   9.091252    3.748971\n",
       "25         1.0  5.334524  10.188811    3.748971\n",
       "26         1.0  6.240384  10.206278    3.748969\n",
       "27         1.0  4.983630   2.546350    3.748969\n",
       "28         1.0  2.585015  10.417553    3.748959\n",
       "29         1.0  5.456296   9.983193    3.748959\n",
       "30         1.0  6.127751  10.488427    3.748959\n",
       "31         1.0  7.852641  10.064305    3.748959\n",
       "32         1.0  0.852115   1.995211    3.748959\n",
       "33         1.0  5.490595  13.528158    3.748959\n",
       "34         1.0  5.404131  10.351214    3.748959\n",
       "35         1.0  5.451840  10.351214    3.748959\n",
       "36         1.0  5.431423  10.184123    3.748953\n",
       "37         1.0  5.811540  10.205903    3.748953\n",
       "38         1.0  5.722173  10.184123    3.748953\n",
       "39         1.0  5.439130  10.236686    3.748953"
      ]
     },
     "execution_count": 57,
     "metadata": {},
     "output_type": "execute_result"
    }
   ],
   "source": [
    "Coefficient_matrix_GBM = pd.DataFrame(columns=['Generation','GBMmu', 'GBMsigma','GBMFitness'])\n",
    "for generation in range(GBMnum_generations):\n",
    "    # Measuring the fitness of each chromosome in the population.\n",
    "    GBMfitness = GBMfitness_vector(data,D_population,t=1)\n",
    "    # Selecting the best parents in the population.\n",
    "    GBMparents = GBMselection(GBMfitness,D_population,GBMnum_parents)\n",
    "    # Generating next generation using crossover.\n",
    "    GBMcross = GBMcrossover(GBMparents)\n",
    "    # Adding some variations to the offsrping using mutation.\n",
    "    GBMrow = GBMcross.shape[0]\n",
    "    GBMcolumn = GBMcross.shape[1]\n",
    "    GBMmutation_matrix = np.random.rand(GBMrow,GBMcolumn)*np.array([[random.randint(-1,1) for j in range(GBMcolumn)] for i in range(GBMrow)])\n",
    "    GBMmutation_matrix+= np.ones((GBMrow,GBMcolumn))\n",
    "    GBMmutant = GBMmutation_matrix*GBMcross\n",
    "    # Creating the new population based on the parents and offspring.\n",
    "    D_population[0:GBMnum_parents, :] = GBMparents\n",
    "    D_population[GBMnum_parents:, :] = GBMmutant\n",
    "    np.random.shuffle(D_population)\n",
    "    # The best result in the current iteration.\n",
    "    #print(\"Generation : \", generation + 1,\"\\nBest Parent:\\n\",try_population[np.where(fitness==np.min(fitness))],\"\\nMin Fitness Values :\",np.min(fitness),\"\\n\\n\")\n",
    "    GBMgen = np.insert(D_population[np.where(GBMfitness==np.min(GBMfitness))],  0,int(0 + 1))\n",
    "    GBMgen = np.insert(GBMgen,len(GBMgen),np.min(GBMfitness)-entropy)\n",
    "    Coefficient_matrix_GBM.loc[generation] = GBMgen\n",
    "Coefficient_matrix_GBM"
   ]
  },
  {
   "cell_type": "code",
   "execution_count": 58,
   "metadata": {},
   "outputs": [
    {
     "data": {
      "text/plain": [
       "[<matplotlib.lines.Line2D at 0x21bad820e80>]"
      ]
     },
     "execution_count": 58,
     "metadata": {},
     "output_type": "execute_result"
    },
    {
     "data": {
      "image/png": "[encoded data removed]",
      "text/plain": [
       "<Figure size 432x288 with 1 Axes>"
      ]
     },
     "metadata": {},
     "output_type": "display_data"
    }
   ],
   "source": [
    "GBM_crBTC1_d = np.array(Coefficient_matrix_GBM)[-1,1:-1]\n",
    "#Quantum_crBTC1_d = np.array(Coefficient_matrix)[-15,1:-1]\n",
    "crBTC1_rg=25\n",
    "crBTC1_t = np.sort([crBTC1[i] for i in range(len(crBTC1)) if -crBTC1_rg<=crBTC1[i]<=crBTC1_rg])\n",
    "width = stats.freedman_bin_width((crBTC1), return_bins=False)\n",
    "hist_plot = sns.histplot(data,stat=\"density\", binwidth=width,binrange=(-crBTC1_rg,crBTC1_rg))\n",
    "plt.plot(crBTC1_t,GBM(GBM_crBTC1_d,crBTC1_t,1),color = 'r')\n",
    "#plt.plot(crBTC1_t,psisquare(Quantum_crBTC1_d,crBTC1_t),color = 'b')"
   ]
  },
  {
   "cell_type": "code",
   "execution_count": 59,
   "metadata": {},
   "outputs": [
    {
     "data": {
      "text/plain": [
       "<matplotlib.legend.Legend at 0x21bad85cd60>"
      ]
     },
     "execution_count": 59,
     "metadata": {},
     "output_type": "execute_result"
    },
    {
     "data": {
      "image/png": "[encoded data removed]",
      "text/plain": [
       "<Figure size 360x360 with 1 Axes>"
      ]
     },
     "metadata": {},
     "output_type": "display_data"
    }
   ],
   "source": [
    "plt.figure(figsize=(5,5))\n",
    "plt.title('GBM Distribution vs Quantum Distribution', fontsize='15')\n",
    "plt.xlabel('Compounded returns of Daily Bitcoin', fontsize='15')\n",
    "plt.ylabel('Density', fontsize='15')\n",
    "\n",
    "GBM_crBTC1_d = np.array(Coefficient_matrix_GBM)[-1,1:-1]\n",
    "Quantum_crBTC1_d = np.array(Coefficient_matrix)[-15,1:-1]\n",
    "crBTC1_rg=25\n",
    "crBTC1_t = np.sort([crBTC1[i] for i in range(len(crBTC1)) if -crBTC1_rg<=crBTC1[i]<=crBTC1_rg])\n",
    "width = stats.freedman_bin_width((crBTC1), return_bins=False)\n",
    "hist_plot = sns.histplot(data,stat=\"density\", binwidth=width,binrange=(-crBTC1_rg,crBTC1_rg))\n",
    "plt.plot(crBTC1_t,GBM(GBM_crBTC1_d,crBTC1_t,1),color = 'r',label='GBM')\n",
    "plt.plot(crBTC1_t,psisquare(Quantum_crBTC1_d,crBTC1_t),color = 'b',label ='Quantum')\n",
    "\n",
    "plt.legend(loc=\"upper left\")"
   ]
  },
  {
   "cell_type": "code",
   "execution_count": 64,
   "metadata": {},
   "outputs": [
    {
     "data": {
      "text/plain": [
       "(array([ 4.81155078e-02,  5.52969396e-03, -1.82056753e-05,  1.03336203e-03,\n",
       "         7.20499710e-04,  9.75350681e-03]),\n",
       " array([ 5.43912993, 10.23668579]),\n",
       " 3.7489534603249375,\n",
       " 3.6829283994286635)"
      ]
     },
     "execution_count": 64,
     "metadata": {},
     "output_type": "execute_result"
    }
   ],
   "source": [
    "Quantum_crBTC1_d,GBM_crBTC1_d,np.array(Coefficient_matrix_GBM)[-1,-1],np.array(Coefficient_matrix)[-1,-1]"
   ]
  },
  {
   "cell_type": "code",
   "execution_count": 65,
   "metadata": {},
   "outputs": [
    {
     "data": {
      "text/plain": [
       "1.0285773400231936e-36"
      ]
     },
     "execution_count": 65,
     "metadata": {},
     "output_type": "execute_result"
    }
   ],
   "source": [
    "#product between mass and angular frequency of the hoscillaotr\n",
    "Quantum_crBTC1_d[-1]*hbar"
   ]
  },
  {
   "cell_type": "code",
   "execution_count": 66,
   "metadata": {},
   "outputs": [
    {
     "data": {
      "text/plain": [
       "(array([9.86296913e-01, 1.30268592e-02, 1.41205337e-07, 4.54927853e-04,\n",
       "        2.21159269e-04]),\n",
       " 0.9999999999999999)"
      ]
     },
     "execution_count": 66,
     "metadata": {},
     "output_type": "execute_result"
    }
   ],
   "source": [
    "#probabilities of the single eigenstate\n",
    "n_Quantum_crBTC1_d=np.sum(Quantum_crBTC1_d[:-1]**2)\n",
    "p_Quantum_crBTC1_d = (Quantum_crBTC1_d[:-1]**2)/n_Quantum_crBTC1_d\n",
    "p_Quantum_crBTC1_d,np.sum(p_Quantum_crBTC1_d)"
   ]
  },
  {
   "cell_type": "code",
   "execution_count": 80,
   "metadata": {},
   "outputs": [
    {
     "data": {
      "text/plain": [
       "0.9112393628183599"
      ]
     },
     "execution_count": 80,
     "metadata": {},
     "output_type": "execute_result"
    }
   ],
   "source": [
    "ApEn(crBTC5, m=2, r=3)"
   ]
  },
  {
   "cell_type": "code",
   "execution_count": null,
   "metadata": {},
   "outputs": [],
   "source": []
  }
 ],
 "metadata": {
  "kernelspec": {
   "display_name": "Python 3",
   "language": "python",
   "name": "python3"
  },
  "language_info": {
   "codemirror_mode": {
    "name": "ipython",
    "version": 3
   },
   "file_extension": ".py",
   "mimetype": "text/x-python",
   "name": "python",
   "nbconvert_exporter": "python",
   "pygments_lexer": "ipython3",
   "version": "3.8.5"
  }
 },
 "nbformat": 4,
 "nbformat_minor": 4
}
